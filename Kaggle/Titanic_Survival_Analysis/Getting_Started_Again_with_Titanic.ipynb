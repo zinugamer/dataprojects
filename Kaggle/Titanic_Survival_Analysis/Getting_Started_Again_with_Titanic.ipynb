{
  "metadata": {
    "kernelspec": {
      "language": "python",
      "display_name": "Python 3",
      "name": "python3"
    },
    "language_info": {
      "name": "python",
      "version": "3.11.11",
      "mimetype": "text/x-python",
      "codemirror_mode": {
        "name": "ipython",
        "version": 3
      },
      "pygments_lexer": "ipython3",
      "nbconvert_exporter": "python",
      "file_extension": ".py"
    },
    "kaggle": {
      "accelerator": "none",
      "dataSources": [
        {
          "sourceId": 3136,
          "databundleVersionId": 26502,
          "sourceType": "competition"
        }
      ],
      "dockerImageVersionId": 31040,
      "isInternetEnabled": true,
      "language": "python",
      "sourceType": "notebook",
      "isGpuEnabled": false
    },
    "colab": {
      "name": "Getting_Started_Again_with_Titanic",
      "provenance": []
    }
  },
  "nbformat_minor": 0,
  "nbformat": 4,
  "cells": [
    {
      "source": [
        "# IMPORTANT: SOME KAGGLE DATA SOURCES ARE PRIVATE\n",
        "# RUN THIS CELL IN ORDER TO IMPORT YOUR KAGGLE DATA SOURCES.\n",
        "import kagglehub\n",
        "kagglehub.login()\n"
      ],
      "metadata": {
        "id": "seMl03PmKvb9"
      },
      "cell_type": "code",
      "outputs": [],
      "execution_count": null
    },
    {
      "source": [
        "# IMPORTANT: RUN THIS CELL IN ORDER TO IMPORT YOUR KAGGLE DATA SOURCES,\n",
        "# THEN FEEL FREE TO DELETE THIS CELL.\n",
        "# NOTE: THIS NOTEBOOK ENVIRONMENT DIFFERS FROM KAGGLE'S PYTHON\n",
        "# ENVIRONMENT SO THERE MAY BE MISSING LIBRARIES USED BY YOUR\n",
        "# NOTEBOOK.\n",
        "\n",
        "titanic_path = kagglehub.competition_download('titanic')\n",
        "\n",
        "print('Data source import complete.')\n"
      ],
      "metadata": {
        "id": "MA091ZFzKvb9"
      },
      "cell_type": "code",
      "outputs": [],
      "execution_count": null
    },
    {
      "cell_type": "markdown",
      "source": [],
      "metadata": {
        "id": "eDB2s8YSKvb-"
      }
    },
    {
      "cell_type": "markdown",
      "source": [
        "# 1. Data Preparation\n",
        "## 1.1 Get the fullpath of the input data"
      ],
      "metadata": {
        "id": "Y_0p_aSBKvb-"
      }
    },
    {
      "cell_type": "code",
      "source": [
        "# This Python 3 environment comes with many helpful analytics libraries installed\n",
        "# It is defined by the kaggle/python Docker image: https://github.com/kaggle/docker-python\n",
        "\n",
        "\"\"\"\n",
        "    Import libraries for data analytics\n",
        "\"\"\"\n",
        "import numpy as np # linear algebra\n",
        "import pandas as pd # data processing, CSV file I/O (e.g. pd.read_csv)\n",
        "import seaborn as sns\n",
        "import matplotlib.pyplot as plt\n",
        "\n",
        "# Input data files are available in the read-only \"../input/\" directory\n",
        "\n",
        "\"\"\"\n",
        "    Get the fullpath of the input data\n",
        "\"\"\"\n",
        "import os\n",
        "for dirname, _, filenames in os.walk('/kaggle/input'):\n",
        "    for filename in filenames:\n",
        "        print(os.path.join(dirname, filename))\n",
        "\n",
        "# You can write up to 20GB to the current directory (/kaggle/working/) that gets preserved as output when you create a version using \"Save & Run All\"\n",
        "# You can also write temporary files to /kaggle/temp/, but they won't be saved outside of the current session"
      ],
      "metadata": {
        "_uuid": "8f2839f25d086af736a60e9eeb907d3b93b6e0e5",
        "_cell_guid": "b1076dfc-b9ad-4769-8c92-a6c4dae69d19",
        "trusted": true,
        "execution": {
          "iopub.status.busy": "2025-05-25T11:43:28.70873Z",
          "iopub.execute_input": "2025-05-25T11:43:28.70963Z",
          "iopub.status.idle": "2025-05-25T11:43:29.996058Z",
          "shell.execute_reply.started": "2025-05-25T11:43:28.709601Z",
          "shell.execute_reply": "2025-05-25T11:43:29.995063Z"
        },
        "id": "n4YFUY8xKvb-"
      },
      "outputs": [],
      "execution_count": null
    },
    {
      "cell_type": "markdown",
      "source": [
        "## 1.2 Read data from files"
      ],
      "metadata": {
        "id": "sqDSl598Kvb_"
      }
    },
    {
      "cell_type": "code",
      "source": [
        "# Read data from files, based on paths we got above\n",
        "training_set = pd.read_csv('/kaggle/input/titanic/train.csv')\n",
        "test_set = pd.read_csv('/kaggle/input/titanic/test.csv')\n",
        "\n",
        "# Explore data structures of dataframes\n",
        "from IPython.display import display # import Iteractive to enhance functionality\n",
        "\n",
        "display(training_set.head(10))\n",
        "display(test_set.head(10))"
      ],
      "metadata": {
        "trusted": true,
        "execution": {
          "iopub.status.busy": "2025-05-25T11:43:33.114688Z",
          "iopub.execute_input": "2025-05-25T11:43:33.115157Z",
          "iopub.status.idle": "2025-05-25T11:43:33.178681Z",
          "shell.execute_reply.started": "2025-05-25T11:43:33.115131Z",
          "shell.execute_reply": "2025-05-25T11:43:33.177777Z"
        },
        "id": "RxGDh93KKvb_"
      },
      "outputs": [],
      "execution_count": null
    },
    {
      "cell_type": "markdown",
      "source": [
        "There's no 'survived' column in the test dataset."
      ],
      "metadata": {
        "id": "oLeJNpWhKvb_"
      }
    },
    {
      "cell_type": "code",
      "source": [
        "\"\"\"\n",
        "    Combine the training dataset & test dataset\n",
        "\"\"\"\n",
        "\n",
        "# Add an identifier column for later separation\n",
        "training_set['train_test'] = 1\n",
        "test_set['train_test'] = 0\n",
        "\n",
        "# Add Survived column to test set to match columns for concatenation\n",
        "test_set['Survived'] = np.NaN\n",
        "\n",
        "# Combine datasets for joint preprocessing\n",
        "all_data = pd.concat([training_set, test_set])\n",
        "\n",
        "# Enable inline plotting (useful for Jupyter/Notebook environments)\n",
        "%matplotlib inline\n",
        "\n",
        "# View column names of the entire dataset\n",
        "all_data.columns"
      ],
      "metadata": {
        "trusted": true,
        "execution": {
          "iopub.status.busy": "2025-05-25T11:43:36.969335Z",
          "iopub.execute_input": "2025-05-25T11:43:36.970252Z",
          "iopub.status.idle": "2025-05-25T11:43:36.986497Z",
          "shell.execute_reply.started": "2025-05-25T11:43:36.970204Z",
          "shell.execute_reply": "2025-05-25T11:43:36.985686Z"
        },
        "id": "7kD_IK2CKvb_"
      },
      "outputs": [],
      "execution_count": null
    },
    {
      "cell_type": "code",
      "source": [
        "all_data.head(30)"
      ],
      "metadata": {
        "trusted": true,
        "execution": {
          "iopub.status.busy": "2025-05-25T11:43:40.188415Z",
          "iopub.execute_input": "2025-05-25T11:43:40.188724Z",
          "iopub.status.idle": "2025-05-25T11:43:40.209198Z",
          "shell.execute_reply.started": "2025-05-25T11:43:40.1887Z",
          "shell.execute_reply": "2025-05-25T11:43:40.208282Z"
        },
        "id": "3IyKKkkeKvcA"
      },
      "outputs": [],
      "execution_count": null
    },
    {
      "cell_type": "code",
      "source": [
        "\"\"\"\n",
        "    3. Explore details of training dataset\n",
        "\"\"\"\n",
        "training_set.info()"
      ],
      "metadata": {
        "trusted": true,
        "execution": {
          "iopub.status.busy": "2025-05-25T11:44:02.708184Z",
          "iopub.execute_input": "2025-05-25T11:44:02.708492Z",
          "iopub.status.idle": "2025-05-25T11:44:02.729491Z",
          "shell.execute_reply.started": "2025-05-25T11:44:02.70847Z",
          "shell.execute_reply": "2025-05-25T11:44:02.728679Z"
        },
        "id": "naM7XfDVKvcA"
      },
      "outputs": [],
      "execution_count": null
    },
    {
      "cell_type": "code",
      "source": [
        "# Using .describe() method to understand the central tendencies of the numeric data\n",
        "training_set.describe()"
      ],
      "metadata": {
        "trusted": true,
        "execution": {
          "iopub.status.busy": "2025-05-25T11:44:05.642925Z",
          "iopub.execute_input": "2025-05-25T11:44:05.643618Z",
          "iopub.status.idle": "2025-05-25T11:44:05.719117Z",
          "shell.execute_reply.started": "2025-05-25T11:44:05.643589Z",
          "shell.execute_reply": "2025-05-25T11:44:05.718298Z"
        },
        "id": "_8-BCIBRKvcA"
      },
      "outputs": [],
      "execution_count": null
    },
    {
      "cell_type": "code",
      "source": [
        "# Break data into Numeric variables & Categorical variables\n",
        "df_num = training_set[['Age', 'SibSp', 'Parch', 'Fare']]\n",
        "df_cat = training_set[['Survived', 'Pclass', 'Sex', 'Ticket','Cabin', 'Embarked']]"
      ],
      "metadata": {
        "trusted": true,
        "execution": {
          "iopub.status.busy": "2025-05-25T11:44:10.028007Z",
          "iopub.execute_input": "2025-05-25T11:44:10.028339Z",
          "iopub.status.idle": "2025-05-25T11:44:10.034453Z",
          "shell.execute_reply.started": "2025-05-25T11:44:10.028315Z",
          "shell.execute_reply": "2025-05-25T11:44:10.033638Z"
        },
        "id": "LYfOyEk8KvcA"
      },
      "outputs": [],
      "execution_count": null
    },
    {
      "cell_type": "code",
      "source": [
        "# Distributions (Histograms) for all numeric variables\n",
        "for i in df_num.columns:\n",
        "    plt.hist(df_num[i].dropna())\n",
        "    plt.title(i)\n",
        "    plt.show()"
      ],
      "metadata": {
        "trusted": true,
        "execution": {
          "iopub.status.busy": "2025-05-25T11:44:12.386229Z",
          "iopub.execute_input": "2025-05-25T11:44:12.386528Z",
          "iopub.status.idle": "2025-05-25T11:44:13.268549Z",
          "shell.execute_reply.started": "2025-05-25T11:44:12.386506Z",
          "shell.execute_reply": "2025-05-25T11:44:13.267651Z"
        },
        "id": "nZ9LOkjvKvcA"
      },
      "outputs": [],
      "execution_count": null
    },
    {
      "cell_type": "code",
      "source": [
        "# Correlations\n",
        "print(df_num.corr())\n",
        "sns.heatmap(df_num.corr(), annot=True, cmap='coolwarm')\n",
        "\n",
        "plt.title('Correlation Matrix for All Numeric Features')\n",
        "\n",
        "plt.show()"
      ],
      "metadata": {
        "trusted": true,
        "execution": {
          "iopub.status.busy": "2025-05-25T11:44:17.271529Z",
          "iopub.execute_input": "2025-05-25T11:44:17.271878Z",
          "iopub.status.idle": "2025-05-25T11:44:17.517461Z",
          "shell.execute_reply.started": "2025-05-25T11:44:17.271854Z",
          "shell.execute_reply": "2025-05-25T11:44:17.516587Z"
        },
        "id": "xogXjSEIKvcA"
      },
      "outputs": [],
      "execution_count": null
    },
    {
      "cell_type": "code",
      "source": [
        "# Compare survival rate across Age,SibSp,Parch,and Fare\n",
        "pd.pivot_table(training_set, index='Survived',values=['Age','SibSp','Parch','Fare'],aggfunc='mean')"
      ],
      "metadata": {
        "trusted": true,
        "execution": {
          "iopub.status.busy": "2025-05-25T11:44:20.038315Z",
          "iopub.execute_input": "2025-05-25T11:44:20.038621Z",
          "iopub.status.idle": "2025-05-25T11:44:20.056434Z",
          "shell.execute_reply.started": "2025-05-25T11:44:20.038599Z",
          "shell.execute_reply": "2025-05-25T11:44:20.055589Z"
        },
        "id": "gJgqeLhNKvcA"
      },
      "outputs": [],
      "execution_count": null
    },
    {
      "cell_type": "code",
      "source": [
        "\"\"\"\n",
        "    side-by-side barplot for categorical features\n",
        "\"\"\"\n",
        "\n",
        "\n",
        "for i in df_cat.columns:\n",
        "    sns.barplot(x=df_cat[i].value_counts().index, y=df_cat[i].value_counts().values).set_title(i)\n",
        "    plt.show()"
      ],
      "metadata": {
        "trusted": true,
        "execution": {
          "iopub.status.busy": "2025-05-25T11:44:22.192789Z",
          "iopub.execute_input": "2025-05-25T11:44:22.193071Z",
          "iopub.status.idle": "2025-05-25T11:44:28.653701Z",
          "shell.execute_reply.started": "2025-05-25T11:44:22.193051Z",
          "shell.execute_reply": "2025-05-25T11:44:28.652936Z"
        },
        "id": "p7fYKSL9KvcA"
      },
      "outputs": [],
      "execution_count": null
    },
    {
      "cell_type": "code",
      "source": [
        "# Comparing survival and each of these categorical variables, aggregated by count\n",
        "print(pd.pivot_table(training_set, index = 'Survived', columns = 'Pclass', values = 'Ticket', aggfunc = 'count'))\n",
        "print()\n",
        "print(pd.pivot_table(training_set, index = 'Survived', columns = 'Sex', values = 'Ticket', aggfunc = 'count'))\n",
        "print()\n",
        "print(pd.pivot_table(training_set, index = 'Survived', columns = 'Embarked', values = 'Ticket', aggfunc = 'count'))"
      ],
      "metadata": {
        "trusted": true,
        "execution": {
          "iopub.status.busy": "2025-05-25T11:44:34.069547Z",
          "iopub.execute_input": "2025-05-25T11:44:34.069891Z",
          "iopub.status.idle": "2025-05-25T11:44:34.106144Z",
          "shell.execute_reply.started": "2025-05-25T11:44:34.069866Z",
          "shell.execute_reply": "2025-05-25T11:44:34.105384Z"
        },
        "id": "s8vKo7EiKvcB"
      },
      "outputs": [],
      "execution_count": null
    },
    {
      "cell_type": "code",
      "source": [
        "# Comparing survival and each of these categorical variables, aggregated by percent\n",
        "\n",
        "pivot_Pclass = pd.pivot_table(training_set, index = 'Survived', columns = 'Pclass', values = 'Ticket', aggfunc = 'count')\n",
        "pivot_pct_Pclass = pivot_Pclass.apply(lambda col: col / col.sum(), axis=0) * 100\n",
        "print(pivot_pct_Pclass, '\\n')\n",
        "\n",
        "pivot_Sex = pd.pivot_table(training_set, index = 'Survived', columns = 'Sex', values = 'Ticket', aggfunc = 'count')\n",
        "pivot_pct_Sex = pivot_Sex.apply(lambda col: col / col.sum(), axis=0) * 100\n",
        "print(pivot_pct_Sex, '\\n')\n",
        "\n",
        "pivot_Embarked = pd.pivot_table(training_set, index = 'Survived', columns = 'Embarked', values = 'Ticket', aggfunc = 'count')\n",
        "pivot_pct_Embarked = pivot_Embarked.apply(lambda col: col / col.sum(), axis=0) * 100\n",
        "print(pivot_pct_Embarked, '\\n')"
      ],
      "metadata": {
        "trusted": true,
        "execution": {
          "iopub.status.busy": "2025-05-25T11:44:37.613434Z",
          "iopub.execute_input": "2025-05-25T11:44:37.613774Z",
          "iopub.status.idle": "2025-05-25T11:44:37.648979Z",
          "shell.execute_reply.started": "2025-05-25T11:44:37.613731Z",
          "shell.execute_reply": "2025-05-25T11:44:37.648068Z"
        },
        "id": "ZDsQjaNCKvcB"
      },
      "outputs": [],
      "execution_count": null
    },
    {
      "cell_type": "code",
      "source": [
        "df_cat.Cabin.head(30)"
      ],
      "metadata": {
        "trusted": true,
        "execution": {
          "iopub.status.busy": "2025-05-25T11:44:40.780254Z",
          "iopub.execute_input": "2025-05-25T11:44:40.780529Z",
          "iopub.status.idle": "2025-05-25T11:44:40.787286Z",
          "shell.execute_reply.started": "2025-05-25T11:44:40.780509Z",
          "shell.execute_reply": "2025-05-25T11:44:40.786515Z"
        },
        "id": "PjRpDEdKKvcB"
      },
      "outputs": [],
      "execution_count": null
    },
    {
      "cell_type": "code",
      "source": [
        "# Create a new feature 'cabin_multi' filling with num of cabins\n",
        "training_set['cabin_multi'] = training_set.Cabin.apply(\n",
        "    lambda x: 0 if pd.isna(x) else\n",
        "              1 if len(x.split(' ')) == 1 else\n",
        "              len(x.split(' ')))\n",
        "training_set['cabin_multi'].value_counts()"
      ],
      "metadata": {
        "trusted": true,
        "execution": {
          "iopub.status.busy": "2025-05-25T11:44:43.037418Z",
          "iopub.execute_input": "2025-05-25T11:44:43.037741Z",
          "iopub.status.idle": "2025-05-25T11:44:43.047841Z",
          "shell.execute_reply.started": "2025-05-25T11:44:43.03772Z",
          "shell.execute_reply": "2025-05-25T11:44:43.04679Z"
        },
        "id": "pU4YkSOpKvcB"
      },
      "outputs": [],
      "execution_count": null
    },
    {
      "cell_type": "code",
      "source": [
        "# Show categories and corres percents of 'cabin_multi'\n",
        "training_set['cabin_multi'].value_counts(normalize = True)"
      ],
      "metadata": {
        "trusted": true,
        "execution": {
          "iopub.status.busy": "2025-05-25T11:44:45.372432Z",
          "iopub.execute_input": "2025-05-25T11:44:45.372994Z",
          "iopub.status.idle": "2025-05-25T11:44:45.379925Z",
          "shell.execute_reply.started": "2025-05-25T11:44:45.37297Z",
          "shell.execute_reply": "2025-05-25T11:44:45.379008Z"
        },
        "id": "8PvRXdJIKvcB"
      },
      "outputs": [],
      "execution_count": null
    },
    {
      "cell_type": "code",
      "source": [
        "# Check the training set\n",
        "training_set.info()"
      ],
      "metadata": {
        "trusted": true,
        "execution": {
          "iopub.status.busy": "2025-05-25T11:44:47.437819Z",
          "iopub.execute_input": "2025-05-25T11:44:47.438118Z",
          "iopub.status.idle": "2025-05-25T11:44:47.448245Z",
          "shell.execute_reply.started": "2025-05-25T11:44:47.438096Z",
          "shell.execute_reply": "2025-05-25T11:44:47.447328Z"
        },
        "id": "FPv-fWgvKvcB"
      },
      "outputs": [],
      "execution_count": null
    },
    {
      "cell_type": "markdown",
      "source": [],
      "metadata": {
        "id": "C1Z2gyVrKvcB"
      }
    },
    {
      "cell_type": "code",
      "source": [
        "\"\"\"\n",
        "    Create a pivot table for 'cabin_multi' with index 'Survived', aggregated by count\n",
        "\"\"\"\n",
        "pivot_cabin_multi = pd.pivot_table(training_set, index = 'Survived', columns = 'cabin_multi', values = 'Ticket', aggfunc = 'count')\n",
        "pivot_cabin_multi.fillna(0)"
      ],
      "metadata": {
        "trusted": true,
        "execution": {
          "iopub.status.busy": "2025-05-25T11:44:49.844466Z",
          "iopub.execute_input": "2025-05-25T11:44:49.844805Z",
          "iopub.status.idle": "2025-05-25T11:44:49.863669Z",
          "shell.execute_reply.started": "2025-05-25T11:44:49.844773Z",
          "shell.execute_reply": "2025-05-25T11:44:49.862818Z"
        },
        "id": "bX8IfbqEKvcB"
      },
      "outputs": [],
      "execution_count": null
    },
    {
      "cell_type": "code",
      "source": [
        "\"\"\"\n",
        "    Create a pivot table for 'cabin_multi' with index 'Survived', aggregated by percent\n",
        "\"\"\"\n",
        "\n",
        "pivot_pct_cabin_multi = pivot_cabin_multi.apply(\n",
        "    lambda col: col / col.sum(), axis=0) * 100\n",
        "pivot_pct_cabin_multi.fillna(0)"
      ],
      "metadata": {
        "trusted": true,
        "execution": {
          "iopub.status.busy": "2025-05-25T11:44:52.230397Z",
          "iopub.execute_input": "2025-05-25T11:44:52.231101Z",
          "iopub.status.idle": "2025-05-25T11:44:52.242917Z",
          "shell.execute_reply.started": "2025-05-25T11:44:52.231073Z",
          "shell.execute_reply": "2025-05-25T11:44:52.241995Z"
        },
        "id": "plzsgRPCKvcB"
      },
      "outputs": [],
      "execution_count": null
    },
    {
      "cell_type": "code",
      "source": [
        "\"\"\"\n",
        "    Create a new feature 'cabin_adv', categorized by first letter\n",
        "    - Extract the first letter of each cell of Series 'Cabin'\n",
        "        (training_set.Cabin is a Pandas.Series type, each item x of it is a cell)\n",
        "\"\"\"\n",
        "training_set['cabin_type'] = training_set.Cabin.apply(\n",
        "    lambda x: x[0] if pd.notna(x) else 'Unknown'\n",
        ")\n",
        "\n",
        "print(training_set.cabin_type.value_counts())"
      ],
      "metadata": {
        "trusted": true,
        "execution": {
          "iopub.status.busy": "2025-05-25T11:44:54.018197Z",
          "iopub.execute_input": "2025-05-25T11:44:54.018484Z",
          "iopub.status.idle": "2025-05-25T11:44:54.026661Z",
          "shell.execute_reply.started": "2025-05-25T11:44:54.018463Z",
          "shell.execute_reply": "2025-05-25T11:44:54.025801Z"
        },
        "id": "3ek8ZhwcKvcB"
      },
      "outputs": [],
      "execution_count": null
    },
    {
      "cell_type": "code",
      "source": [
        "\"\"\"\n",
        "    Create a pivot table for the feature 'cabin_adv', aggregated by count\n",
        "\"\"\"\n",
        "pivot_cabin_type = pd.pivot_table(training_set, index='Survived', columns='cabin_type', values='Name', aggfunc='count')\n",
        "pivot_cabin_type.fillna(0)"
      ],
      "metadata": {
        "trusted": true,
        "execution": {
          "iopub.status.busy": "2025-05-25T11:44:57.320081Z",
          "iopub.execute_input": "2025-05-25T11:44:57.320666Z",
          "iopub.status.idle": "2025-05-25T11:44:57.340088Z",
          "shell.execute_reply.started": "2025-05-25T11:44:57.32064Z",
          "shell.execute_reply": "2025-05-25T11:44:57.33919Z"
        },
        "id": "Eg7jI4nPKvcB"
      },
      "outputs": [],
      "execution_count": null
    },
    {
      "cell_type": "code",
      "source": [
        "\"\"\"\n",
        "    Create a pivot table for the feature 'cabin_adv', aggregated by percent\n",
        "\"\"\"\n",
        "pivot_pct_cabin_type = pivot_cabin_type.apply(\n",
        "    lambda col: col / col.sum(), axis=0) * 100\n",
        "\n",
        "pivot_pct_cabin_type = pivot_pct_cabin_type.fillna(0)\n",
        "pivot_pct_cabin_type"
      ],
      "metadata": {
        "trusted": true,
        "execution": {
          "iopub.status.busy": "2025-05-25T11:44:59.462419Z",
          "iopub.execute_input": "2025-05-25T11:44:59.462719Z",
          "iopub.status.idle": "2025-05-25T11:44:59.479186Z",
          "shell.execute_reply.started": "2025-05-25T11:44:59.462699Z",
          "shell.execute_reply": "2025-05-25T11:44:59.478459Z"
        },
        "id": "ha6sI3VAKvcB"
      },
      "outputs": [],
      "execution_count": null
    },
    {
      "cell_type": "code",
      "source": [
        "\"\"\"\n",
        "\n",
        "\"\"\"\n",
        "plt.figure(figsize=(8, 4))\n",
        "sns.heatmap(pivot_pct_cabin_multi.fillna(0), annot=True, fmt=\".1f\", cmap=\"Blues\")\n",
        "\n",
        "plt.title(\"Survival Rate by Cabin Count\")\n",
        "plt.ylabel(\"Survived\")\n",
        "plt.xlabel(\"Number of Cabins (cabin_multi)\")\n",
        "plt.show()"
      ],
      "metadata": {
        "trusted": true,
        "execution": {
          "iopub.status.busy": "2025-05-25T11:45:01.815313Z",
          "iopub.execute_input": "2025-05-25T11:45:01.815635Z",
          "iopub.status.idle": "2025-05-25T11:45:02.026114Z",
          "shell.execute_reply.started": "2025-05-25T11:45:01.815614Z",
          "shell.execute_reply": "2025-05-25T11:45:02.025272Z"
        },
        "id": "iMyG1eEiKvcB"
      },
      "outputs": [],
      "execution_count": null
    },
    {
      "cell_type": "code",
      "source": [
        "\"\"\"\n",
        "\n",
        "\"\"\"\n",
        "plt.figure(figsize=(8, 4))\n",
        "sns.heatmap(pivot_pct_cabin_type.fillna(0), annot=True, fmt=\".1f\", cmap=\"Blues\")\n",
        "\n",
        "plt.title(\"Survival Rate by Cabin Type\")\n",
        "plt.ylabel(\"Survived\")\n",
        "plt.xlabel(\"Type of Cabins (cabin_type)\")\n",
        "plt.show()"
      ],
      "metadata": {
        "trusted": true,
        "execution": {
          "iopub.status.busy": "2025-05-25T11:45:25.457689Z",
          "iopub.execute_input": "2025-05-25T11:45:25.458024Z",
          "iopub.status.idle": "2025-05-25T11:45:25.693329Z",
          "shell.execute_reply.started": "2025-05-25T11:45:25.458001Z",
          "shell.execute_reply": "2025-05-25T11:45:25.692506Z"
        },
        "id": "y0AXo9ncKvcB"
      },
      "outputs": [],
      "execution_count": null
    },
    {
      "cell_type": "markdown",
      "source": [],
      "metadata": {
        "id": "YRnFfA2-KvcB"
      }
    },
    {
      "cell_type": "code",
      "source": [
        "\"\"\"\n",
        "    Ticket\n",
        "\"\"\"\n",
        "\n",
        "training_set.Ticket.head(30)"
      ],
      "metadata": {
        "trusted": true,
        "execution": {
          "iopub.status.busy": "2025-05-25T11:45:32.211786Z",
          "iopub.execute_input": "2025-05-25T11:45:32.212058Z",
          "iopub.status.idle": "2025-05-25T11:45:32.21969Z",
          "shell.execute_reply.started": "2025-05-25T11:45:32.21204Z",
          "shell.execute_reply": "2025-05-25T11:45:32.218809Z"
        },
        "id": "5Nib6qnfKvcC"
      },
      "outputs": [],
      "execution_count": null
    },
    {
      "cell_type": "code",
      "source": [
        "\"\"\"\n",
        "    Create a new feature 'numeric_ticket'\n",
        "        - if ticket is pure number, then 1\n",
        "        - else 0\n",
        "\"\"\"\n",
        "\n",
        "training_set['numeric_ticket'] = training_set.Ticket.apply(\n",
        "    lambda x: 1 if x.isnumeric() else 0\n",
        ")\n",
        "training_set.numeric_ticket.head(10)"
      ],
      "metadata": {
        "trusted": true,
        "execution": {
          "iopub.status.busy": "2025-05-25T11:46:00.003773Z",
          "iopub.execute_input": "2025-05-25T11:46:00.004095Z",
          "iopub.status.idle": "2025-05-25T11:46:00.012795Z",
          "shell.execute_reply.started": "2025-05-25T11:46:00.004068Z",
          "shell.execute_reply": "2025-05-25T11:46:00.012086Z"
        },
        "id": "LVH3iqWGKvcC"
      },
      "outputs": [],
      "execution_count": null
    },
    {
      "cell_type": "code",
      "source": [
        "\"\"\"\n",
        "    Create a new feature 'ticket_letters'\n",
        "        - if ticket is pure number, then 1\n",
        "        - else 0\n",
        "\"\"\"\n",
        "\n",
        "training_set['ticket_letters'] = training_set.Ticket.apply(\n",
        "    lambda x: ''.join(x.split(' ')[:-1]).replace('.','').replace('/','').upper() if len(x.split(' ')[:-1]) > 0 else 0\n",
        ")\n",
        "training_set.ticket_letters.head(10)"
      ],
      "metadata": {
        "trusted": true,
        "execution": {
          "iopub.status.busy": "2025-05-25T11:46:04.550923Z",
          "iopub.execute_input": "2025-05-25T11:46:04.551307Z",
          "iopub.status.idle": "2025-05-25T11:46:04.560465Z",
          "shell.execute_reply.started": "2025-05-25T11:46:04.551281Z",
          "shell.execute_reply": "2025-05-25T11:46:04.55948Z"
        },
        "id": "CmG5yAvQKvcC"
      },
      "outputs": [],
      "execution_count": null
    },
    {
      "cell_type": "code",
      "source": [
        "training_set['numeric_ticket'].value_counts(normalize=False) # normalize=False -> count"
      ],
      "metadata": {
        "trusted": true,
        "execution": {
          "iopub.status.busy": "2025-05-25T11:46:08.786743Z",
          "iopub.execute_input": "2025-05-25T11:46:08.787093Z",
          "iopub.status.idle": "2025-05-25T11:46:08.794255Z",
          "shell.execute_reply.started": "2025-05-25T11:46:08.787069Z",
          "shell.execute_reply": "2025-05-25T11:46:08.793521Z"
        },
        "id": "Jx7j4tFHKvcC"
      },
      "outputs": [],
      "execution_count": null
    },
    {
      "cell_type": "code",
      "source": [
        "training_set['ticket_letters'].value_counts(normalize=False) # normalize=True -> proportion"
      ],
      "metadata": {
        "trusted": true,
        "execution": {
          "iopub.status.busy": "2025-05-25T11:46:11.996003Z",
          "iopub.execute_input": "2025-05-25T11:46:11.996304Z",
          "iopub.status.idle": "2025-05-25T11:46:12.004264Z",
          "shell.execute_reply.started": "2025-05-25T11:46:11.996284Z",
          "shell.execute_reply": "2025-05-25T11:46:12.003335Z"
        },
        "id": "1HnxftOAKvcC"
      },
      "outputs": [],
      "execution_count": null
    },
    {
      "cell_type": "code",
      "source": [
        "\"\"\"\n",
        "    Pivot table for 'numeric_ticket' with index 'Survived'\n",
        "\"\"\"\n",
        "pivot_num_ticket = pd.pivot_table(training_set, index = 'Survived', columns = 'numeric_ticket', values = 'PassengerId', aggfunc = 'count')\n",
        "pivot_num_ticket"
      ],
      "metadata": {
        "trusted": true,
        "execution": {
          "iopub.status.busy": "2025-05-25T11:46:16.681527Z",
          "iopub.execute_input": "2025-05-25T11:46:16.681852Z",
          "iopub.status.idle": "2025-05-25T11:46:16.697003Z",
          "shell.execute_reply.started": "2025-05-25T11:46:16.68183Z",
          "shell.execute_reply": "2025-05-25T11:46:16.696099Z"
        },
        "id": "xU3HhiLHKvcC"
      },
      "outputs": [],
      "execution_count": null
    },
    {
      "cell_type": "code",
      "source": [
        "\"\"\"\n",
        "    列归一化\n",
        "\"\"\"\n",
        "pivot_pct_num_ticket = pivot_num_ticket.apply(\n",
        "    lambda x: x / x.sum(), axis = 0) * 100\n",
        "pivot_pct_num_ticket"
      ],
      "metadata": {
        "trusted": true,
        "execution": {
          "iopub.status.busy": "2025-05-25T11:46:19.211139Z",
          "iopub.execute_input": "2025-05-25T11:46:19.21147Z",
          "iopub.status.idle": "2025-05-25T11:46:19.220715Z",
          "shell.execute_reply.started": "2025-05-25T11:46:19.211443Z",
          "shell.execute_reply": "2025-05-25T11:46:19.219816Z"
        },
        "id": "ecvQg1eaKvcC"
      },
      "outputs": [],
      "execution_count": null
    },
    {
      "cell_type": "code",
      "source": [
        "\"\"\"\n",
        "    Pivot table for 'ticket_letters' with index 'Survived'\n",
        "\"\"\"\n",
        "\n",
        "pivot_ticket_let = pd.pivot_table(training_set, index = 'Survived', columns = 'ticket_letters', values = 'PassengerId', aggfunc = 'count')\n",
        "pivot_ticket_let = pivot_ticket_let.fillna(0)\n",
        "pivot_ticket_let"
      ],
      "metadata": {
        "trusted": true,
        "execution": {
          "iopub.status.busy": "2025-05-25T11:47:51.791663Z",
          "iopub.execute_input": "2025-05-25T11:47:51.791986Z",
          "iopub.status.idle": "2025-05-25T11:47:51.822193Z",
          "shell.execute_reply.started": "2025-05-25T11:47:51.791963Z",
          "shell.execute_reply": "2025-05-25T11:47:51.82144Z"
        },
        "id": "WGZanxaFKvcH"
      },
      "outputs": [],
      "execution_count": null
    },
    {
      "cell_type": "code",
      "source": [
        "\"\"\"\n",
        "    列归一化\n",
        "\"\"\"\n",
        "pivot_pct_ticket_let = pivot_ticket_let.apply(\n",
        "    lambda x: x / x.sum(), axis = 0) * 100\n",
        "pivot_pct_ticket_let"
      ],
      "metadata": {
        "trusted": true,
        "execution": {
          "iopub.status.busy": "2025-05-25T11:47:53.89413Z",
          "iopub.execute_input": "2025-05-25T11:47:53.894416Z",
          "iopub.status.idle": "2025-05-25T11:47:53.919907Z",
          "shell.execute_reply.started": "2025-05-25T11:47:53.894397Z",
          "shell.execute_reply": "2025-05-25T11:47:53.919113Z"
        },
        "id": "TH880ZIwKvcH"
      },
      "outputs": [],
      "execution_count": null
    },
    {
      "cell_type": "markdown",
      "source": [
        "分的太过于细致，每个种类总数太少，得到的百分比不太能说明问题。"
      ],
      "metadata": {
        "id": "jCEU-rpPKvcH"
      }
    },
    {
      "cell_type": "code",
      "source": [
        "\"\"\"\n",
        "    Feature engineering for 'Name' to get identity info\n",
        "\n",
        "\"\"\"\n",
        "\n",
        "training_set.Name.head(30)"
      ],
      "metadata": {
        "trusted": true,
        "execution": {
          "iopub.status.busy": "2025-05-25T11:47:56.911264Z",
          "iopub.execute_input": "2025-05-25T11:47:56.911559Z",
          "iopub.status.idle": "2025-05-25T11:47:56.918509Z",
          "shell.execute_reply.started": "2025-05-25T11:47:56.911536Z",
          "shell.execute_reply": "2025-05-25T11:47:56.917696Z"
        },
        "id": "cgSk-Fr_KvcH"
      },
      "outputs": [],
      "execution_count": null
    },
    {
      "cell_type": "code",
      "source": [
        "\"\"\"\n",
        "\n",
        "\"\"\"\n",
        "training_set['name_title'] = training_set.Name.apply(\n",
        "    lambda x: x.split(',')[1].split('.')[0] if ',' in x and '.' in x else 0\n",
        "#    lambda x: x.split(',')[1].split('.')[0] if len(x.split(',')[1].split('.')) > 0 else 0\n",
        ")\n",
        "training_set.name_title.head(10)"
      ],
      "metadata": {
        "trusted": true,
        "execution": {
          "iopub.status.busy": "2025-05-25T11:48:18.114576Z",
          "iopub.execute_input": "2025-05-25T11:48:18.114912Z",
          "iopub.status.idle": "2025-05-25T11:48:18.123434Z",
          "shell.execute_reply.started": "2025-05-25T11:48:18.11489Z",
          "shell.execute_reply": "2025-05-25T11:48:18.122458Z"
        },
        "id": "glFT95yeKvcH"
      },
      "outputs": [],
      "execution_count": null
    },
    {
      "cell_type": "code",
      "source": [
        "training_set.name_title.value_counts(normalize = False)\n",
        "# training_set['name_title'].value_counts(normalize = False)"
      ],
      "metadata": {
        "trusted": true,
        "execution": {
          "iopub.status.busy": "2025-05-25T11:48:35.366084Z",
          "iopub.execute_input": "2025-05-25T11:48:35.366454Z",
          "iopub.status.idle": "2025-05-25T11:48:35.373568Z",
          "shell.execute_reply.started": "2025-05-25T11:48:35.366429Z",
          "shell.execute_reply": "2025-05-25T11:48:35.372923Z"
        },
        "id": "PUxycAWaKvcH"
      },
      "outputs": [],
      "execution_count": null
    },
    {
      "cell_type": "code",
      "source": [
        "pivot_name_title = pd.pivot_table(training_set, index = 'Survived', columns = 'name_title', values = 'PassengerId', aggfunc = 'count')\n",
        "pivot_name_title = pivot_name_title.fillna(0)\n",
        "pivot_name_title"
      ],
      "metadata": {
        "trusted": true,
        "execution": {
          "iopub.status.busy": "2025-05-25T11:48:39.11582Z",
          "iopub.execute_input": "2025-05-25T11:48:39.116429Z",
          "iopub.status.idle": "2025-05-25T11:48:39.140639Z",
          "shell.execute_reply.started": "2025-05-25T11:48:39.116405Z",
          "shell.execute_reply": "2025-05-25T11:48:39.139868Z"
        },
        "id": "zpIezXfHKvcH"
      },
      "outputs": [],
      "execution_count": null
    },
    {
      "cell_type": "code",
      "source": [
        "pivot_pct_name_title = pivot_name_title.apply(\n",
        "    lambda x: x / x.sum(), axis = 0) * 100\n",
        "pivot_pct_name_title"
      ],
      "metadata": {
        "trusted": true,
        "execution": {
          "iopub.status.busy": "2025-05-25T11:48:44.726378Z",
          "iopub.execute_input": "2025-05-25T11:48:44.726689Z",
          "iopub.status.idle": "2025-05-25T11:48:44.747402Z",
          "shell.execute_reply.started": "2025-05-25T11:48:44.726666Z",
          "shell.execute_reply": "2025-05-25T11:48:44.746523Z"
        },
        "id": "bctVxN7SKvcI"
      },
      "outputs": [],
      "execution_count": null
    },
    {
      "cell_type": "markdown",
      "source": [
        "## Data Preprocessing for Model\n",
        "\n",
        "1) Drop null values from Embarked (only 2) 处理极少量的缺失值，删除对模型影响极小，用删去方式最简单\n",
        "2) Include only relevant variables (exclude data like name and passengerId so that we could have a reasonable number of features for our models to deal with) 降低特征维度，去掉无预测价值的字段。如名字是字符串且极不规律，不适合建模；ID 与目标变量无关。\n",
        "3) Do categorical transforms on all data. Usually we would use a transformer, but with this approach we can ensure that our training and test data have the same columns. We also may be able to infer something about the shape of the test data through this method. I will stress, this is generally not recommend outside of a competition (use onehot encoder).将非数值型（categorical）特征转成数值型。\n",
        "4) Impute data with mean for fare and age (Should also experiment with median)\n",
        "5) Normalized fare using logarithm to give more semblance of a normal distribution.\n",
        "6) Scaled data 0-1 with standard scaler"
      ],
      "metadata": {
        "id": "pNxAWwqdKvcI"
      }
    },
    {
      "cell_type": "code",
      "source": [
        "# Create all categorical variables that we did\n",
        "\n",
        "## 1) Number of Cabins Per Person: 'cabin_multi'\n",
        "all_data['cabin_multi'] = all_data.Cabin.apply(\n",
        "    lambda x: 0 if pd.isna(x) else\n",
        "              1 if len(x.split(' ')) == 1 else\n",
        "              len(x.split(' ')))\n",
        "\n",
        "## 2) Type of Cabins: 'cabin_type'\n",
        "all_data['cabin_type'] = all_data.Cabin.apply(\n",
        "    lambda x: x[0] if pd.notna(x) else 'Unknown'\n",
        ")\n",
        "\n",
        "## 3) Value Type of Ticket: 'numeric_ticket'\n",
        "all_data['numeric_ticket'] = all_data.Ticket.apply(\n",
        "    lambda x: 1 if x.isnumeric() else 0\n",
        ")\n",
        "\n",
        "## 4) Prefix of Ticket: 'ticket_letters'\n",
        "all_data['ticket_letters'] = all_data.Ticket.apply(\n",
        "    lambda x: ''.join(x.split(' ')[:-1]).replace('.','').replace('/','').upper() if len(x.split(' ')[:-1]) > 0 else 0\n",
        ")\n",
        "\n",
        "## 5) Title of Name: 'name_title'\n",
        "all_data['name_title'] = all_data.Name.apply(\n",
        "    lambda x: x.split(',')[1].split('.')[0].strip() if ',' in x and '.' in x else 0\n",
        ")"
      ],
      "metadata": {
        "trusted": true,
        "execution": {
          "iopub.status.busy": "2025-05-25T11:59:36.99469Z",
          "iopub.execute_input": "2025-05-25T11:59:36.995597Z",
          "iopub.status.idle": "2025-05-25T11:59:37.010295Z",
          "shell.execute_reply.started": "2025-05-25T11:59:36.995566Z",
          "shell.execute_reply": "2025-05-25T11:59:37.009486Z"
        },
        "id": "kLiGhZ12KvcI"
      },
      "outputs": [],
      "execution_count": null
    },
    {
      "cell_type": "code",
      "source": [
        "display(all_data.head(10))\n",
        "display(all_data.info())"
      ],
      "metadata": {
        "trusted": true,
        "execution": {
          "iopub.status.busy": "2025-05-25T12:22:57.404524Z",
          "iopub.execute_input": "2025-05-25T12:22:57.40488Z",
          "iopub.status.idle": "2025-05-25T12:22:57.432188Z",
          "shell.execute_reply.started": "2025-05-25T12:22:57.404855Z",
          "shell.execute_reply": "2025-05-25T12:22:57.431443Z"
        },
        "id": "2wfOHAoqKvcI"
      },
      "outputs": [],
      "execution_count": null
    },
    {
      "cell_type": "code",
      "source": [
        "# Fill in NaNs of Numeric features with mean values\n",
        "all_data.Age = all_data.Age.fillna(training_set.Age.mean())\n",
        "all_data.Fare = all_data.Fare.fillna(training_set.Fare.mean())\n",
        "\n",
        "display(training_set.info())\n",
        "display(all_data.info())"
      ],
      "metadata": {
        "trusted": true,
        "execution": {
          "iopub.status.busy": "2025-05-25T12:28:19.846172Z",
          "iopub.execute_input": "2025-05-25T12:28:19.846466Z",
          "iopub.status.idle": "2025-05-25T12:28:19.869891Z",
          "shell.execute_reply.started": "2025-05-25T12:28:19.846447Z",
          "shell.execute_reply": "2025-05-25T12:28:19.869122Z"
        },
        "id": "O2U_7Kp-KvcI"
      },
      "outputs": [],
      "execution_count": null
    },
    {
      "cell_type": "code",
      "source": [
        "# Drop rows with null 'Embarked' rows. Since only 2 in training_set\n",
        "all_data.dropna(subset=['Embarked'],inplace=True)\n",
        "print(all_data['Embarked'].isnull().sum())\n",
        "display(all_data.info())"
      ],
      "metadata": {
        "trusted": true,
        "execution": {
          "iopub.status.busy": "2025-05-25T13:05:09.051096Z",
          "iopub.execute_input": "2025-05-25T13:05:09.051499Z",
          "iopub.status.idle": "2025-05-25T13:05:09.068629Z",
          "shell.execute_reply.started": "2025-05-25T13:05:09.051475Z",
          "shell.execute_reply": "2025-05-25T13:05:09.067675Z"
        },
        "id": "jaj763RPKvcI"
      },
      "outputs": [],
      "execution_count": null
    },
    {
      "cell_type": "code",
      "source": [
        "# log norm of 'SibSp'\n",
        "all_data['norm_sibsp'] = np.log(all_data.SibSp + 1)\n",
        "all_data['norm_sibsp'].hist()\n",
        "# log norm of 'Fare'\n",
        "all_data['norm_fare'] = np.log(all_data.Fare + 1)\n",
        "all_data['norm_fare'].hist()"
      ],
      "metadata": {
        "trusted": true,
        "execution": {
          "iopub.status.busy": "2025-05-25T13:28:08.357648Z",
          "iopub.execute_input": "2025-05-25T13:28:08.357996Z",
          "iopub.status.idle": "2025-05-25T13:28:08.544666Z",
          "shell.execute_reply.started": "2025-05-25T13:28:08.357972Z",
          "shell.execute_reply": "2025-05-25T13:28:08.543824Z"
        },
        "id": "9cfYyjvFKvcI"
      },
      "outputs": [],
      "execution_count": null
    },
    {
      "cell_type": "code",
      "source": [
        "import matplotlib.pyplot as plt\n",
        "\n",
        "fig, ax = plt.subplots(1, 2, figsize=(12, 4))\n",
        "\n",
        "# 原始分布\n",
        "all_data['SibSp'].hist(ax=ax[0])\n",
        "ax[0].set_title('Original SibSp')\n",
        "\n",
        "# 对数变换后分布\n",
        "all_data['norm_sibsp'].hist(ax=ax[1])\n",
        "ax[1].set_title('Log-Transformed SibSp')\n",
        "\n",
        "plt.show()\n"
      ],
      "metadata": {
        "trusted": true,
        "execution": {
          "iopub.status.busy": "2025-05-25T13:30:29.176413Z",
          "iopub.execute_input": "2025-05-25T13:30:29.176703Z",
          "iopub.status.idle": "2025-05-25T13:30:29.499662Z",
          "shell.execute_reply.started": "2025-05-25T13:30:29.176683Z",
          "shell.execute_reply": "2025-05-25T13:30:29.498909Z"
        },
        "id": "O_P460liKvcI"
      },
      "outputs": [],
      "execution_count": null
    },
    {
      "cell_type": "code",
      "source": [
        "fig, ax = plt.subplots(1, 2, figsize=(12, 4))\n",
        "\n",
        "# 原始分布\n",
        "all_data['Fare'].hist(ax=ax[0])\n",
        "ax[0].set_title('Original Fare')\n",
        "\n",
        "# 对数变换后分布\n",
        "all_data['norm_fare'].hist(ax=ax[1])\n",
        "ax[1].set_title('Log-Transformed Fare')\n",
        "\n",
        "plt.show()"
      ],
      "metadata": {
        "trusted": true,
        "execution": {
          "iopub.status.busy": "2025-05-25T13:31:40.20728Z",
          "iopub.execute_input": "2025-05-25T13:31:40.207582Z",
          "iopub.status.idle": "2025-05-25T13:31:40.535879Z",
          "shell.execute_reply.started": "2025-05-25T13:31:40.207561Z",
          "shell.execute_reply": "2025-05-25T13:31:40.534989Z"
        },
        "id": "77oivFccKvcI"
      },
      "outputs": [],
      "execution_count": null
    },
    {
      "cell_type": "code",
      "source": [
        "# Converted 'Fare' to Categorical Feature for pd.get_dummies()\n",
        "all_data.Pclass = all_data.Pclass.astype(str)\n",
        "\n",
        "# Created dummy variables form categories (also can use OneHotEncoder)\n",
        "all_dummies = pd.get_dummies(all_data[['Pclass', 'Sex', 'Age', 'SibSp', 'Parch', 'norm_fare', 'Embarked', 'cabin_type', 'cabin_multi', 'numeric_ticket', 'name_title', 'train_test']])\n",
        "\n",
        "# Split to train & test again\n",
        "X_train = all_dummies[all_dummies.train_test == 1].drop(['train_test'], axis = 1)\n",
        "X_test = all_dummies[all_dummies.train_test == 0].drop(['train_test'], axis = 1)\n",
        "\n",
        "y_train = all_data[all_data.train_test == 1].Survived\n",
        "y_train.shape"
      ],
      "metadata": {
        "trusted": true,
        "execution": {
          "iopub.status.busy": "2025-05-25T13:46:27.370817Z",
          "iopub.execute_input": "2025-05-25T13:46:27.371567Z",
          "iopub.status.idle": "2025-05-25T13:46:27.394955Z",
          "shell.execute_reply.started": "2025-05-25T13:46:27.371535Z",
          "shell.execute_reply": "2025-05-25T13:46:27.394061Z"
        },
        "id": "-qOn7E4DKvcI"
      },
      "outputs": [],
      "execution_count": null
    },
    {
      "cell_type": "code",
      "source": [],
      "metadata": {
        "trusted": true,
        "id": "xIwvyeblKvcI"
      },
      "outputs": [],
      "execution_count": null
    }
  ]
}